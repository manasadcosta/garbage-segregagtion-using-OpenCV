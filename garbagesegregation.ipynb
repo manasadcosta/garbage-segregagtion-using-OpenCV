{
 "cells": [
  {
   "cell_type": "code",
   "execution_count": 1,
   "id": "5302d14e-51e2-4db7-8aba-c98f2c8ca403",
   "metadata": {},
   "outputs": [],
   "source": [
    "import cv2\n",
    "import numpy as np"
   ]
  },
  {
   "cell_type": "code",
   "execution_count": 2,
   "id": "d3ab7d47-4ac0-4c6e-8a89-2c6fe7f3c1ae",
   "metadata": {},
   "outputs": [],
   "source": [
    "img1 = cv2.imread('minigarb/test/metal_image(6).jpg',0)\n",
    "# img5 = cv2.imread('minigarb/train/metal_image(4).jpg',0)\n",
    "# img2 = cv2.imread('minigarb/train/paper_box.jpeg',0)\n",
    "#zero basically imports it in grayscale\n"
   ]
  },
  {
   "cell_type": "code",
   "execution_count": 3,
   "id": "ed1adf1b-7a87-4c9e-bd9c-83b8189a850f",
   "metadata": {},
   "outputs": [],
   "source": [
    "orb = cv2.ORB_create(nfeatures=500)"
   ]
  },
  {
   "cell_type": "code",
   "execution_count": 5,
   "id": "8e4ed9c1-5917-44a6-9b20-0d67c0d163b6",
   "metadata": {},
   "outputs": [
    {
     "name": "stdout",
     "output_type": "stream",
     "text": [
      "[ 70 163 156 128 233  89  92 207 171 254 172 141 140 198  79  27 167   3\n",
      " 237  52  86  67 170 208 154 209  95 255 144 116 143  95]\n"
     ]
    }
   ],
   "source": [
    "# kp1,des1 = orb.detectAndCompute(img1,None)\n",
    "# kp2,des2 = orb.detectAndCompute(img5,None)\n",
    "# print(des1[0])"
   ]
  },
  {
   "cell_type": "code",
   "execution_count": 6,
   "id": "00c0e18b-b7b9-46fc-bfec-7e0323edb462",
   "metadata": {},
   "outputs": [],
   "source": [
    "# imgKp1 = cv2.drawKeypoints(img1,kp1,None)\n",
    "# imgKp2 = cv2.drawKeypoints(img5,kp2,None)"
   ]
  },
  {
   "cell_type": "code",
   "execution_count": 7,
   "id": "9078e372-3f9f-4ebd-bbf2-08a658e82087",
   "metadata": {},
   "outputs": [],
   "source": [
    "# bf = cv2.BFMatcher()\n",
    "# matches = bf.knnMatch(des1,des2,k=2)\n"
   ]
  },
  {
   "cell_type": "code",
   "execution_count": 8,
   "id": "12baea38-83e1-4b1c-9038-e2f50a99048b",
   "metadata": {},
   "outputs": [
    {
     "name": "stdout",
     "output_type": "stream",
     "text": [
      "9\n"
     ]
    }
   ],
   "source": [
    "# good = []\n",
    "# for m,n in matches:\n",
    "#     if m.distance < 0.77*n.distance:\n",
    "#         good.append([m])\n",
    "\n",
    "# img3 = cv2.drawMatchesKnn(img1,kp1,img5,kp2,good,None,flags=2)\n",
    "# print(len(good))"
   ]
  },
  {
   "cell_type": "code",
   "execution_count": 9,
   "id": "719bb4a2-8783-479d-a042-39f00d4360f4",
   "metadata": {},
   "outputs": [
    {
     "data": {
      "text/plain": [
       "-1"
      ]
     },
     "execution_count": 9,
     "metadata": {},
     "output_type": "execute_result"
    }
   ],
   "source": [
    "cv2.imshow('image3',img3)\n",
    "cv2.waitKey(0)"
   ]
  },
  {
   "cell_type": "code",
   "execution_count": 10,
   "id": "f7120dec-1a61-493f-a3e1-224089cf0365",
   "metadata": {},
   "outputs": [
    {
     "data": {
      "text/plain": [
       "-1"
      ]
     },
     "execution_count": 10,
     "metadata": {},
     "output_type": "execute_result"
    }
   ],
   "source": [
    "cv2.imshow('Kp1',imgKp1)\n",
    "cv2.waitKey(0)"
   ]
  },
  {
   "cell_type": "code",
   "execution_count": 8,
   "id": "2a13e3f3-9607-4718-8cec-c4081ff9ae3e",
   "metadata": {},
   "outputs": [
    {
     "data": {
      "text/plain": [
       "-1"
      ]
     },
     "execution_count": 8,
     "metadata": {},
     "output_type": "execute_result"
    }
   ],
   "source": [
    "cv2.imshow('Kp1',imgKp2)\n",
    "cv2.waitKey(0)"
   ]
  },
  {
   "cell_type": "code",
   "execution_count": 4,
   "id": "83d974d2-5fb4-4407-bac3-80801f21d00f",
   "metadata": {},
   "outputs": [
    {
     "data": {
      "text/plain": [
       "-1"
      ]
     },
     "execution_count": 4,
     "metadata": {},
     "output_type": "execute_result"
    }
   ],
   "source": [
    "cv2.imshow('image1',img1)\n",
    "cv2.waitKey(0)"
   ]
  },
  {
   "cell_type": "code",
   "execution_count": null,
   "id": "553d0cbd-f534-48a4-afb4-786c838e0927",
   "metadata": {},
   "outputs": [],
   "source": [
    "cv2.imshow('image2',img2)\n",
    "cv2.waitKey(0)"
   ]
  },
  {
   "cell_type": "code",
   "execution_count": 127,
   "id": "af8c3534-4482-44cd-bcaa-bfab27abadec",
   "metadata": {},
   "outputs": [],
   "source": [
    "# import os\n",
    "\n",
    "# folder_path = 'minigarb/test'\n",
    "\n",
    "# # Get a list of image file names\n",
    "# image_files = os.listdir(folder_path)\n",
    "\n",
    "# # Display the name of each image\n",
    "# for img_name in image_files:\n",
    "#     print(\"Image name:\", img_name)"
   ]
  },
  {
   "cell_type": "code",
   "execution_count": 3,
   "id": "bb9efa63-7289-4445-9da1-da9925ce7a06",
   "metadata": {},
   "outputs": [
    {
     "name": "stdout",
     "output_type": "stream",
     "text": [
      "['.ipynb_checkpoints', 'metal_image(4).jpg', 'paper.jpg', 'paper2.jpeg', 'paper_box.jpeg', 'plastic_bottle.jpg', 'R_351.jpg']\n",
      "total classes: 7\n"
     ]
    }
   ],
   "source": [
    "import os\n",
    "\n",
    "path = 'minigarb/train'\n",
    "images = []\n",
    "classNames = []\n",
    "\n",
    "myList = os.listdir(path)\n",
    "print(myList)\n",
    "print(\"total classes:\",len(myList))"
   ]
  },
  {
   "cell_type": "code",
   "execution_count": 4,
   "id": "7148a913-f610-4b37-8bcd-4c2011b3980b",
   "metadata": {},
   "outputs": [
    {
     "name": "stdout",
     "output_type": "stream",
     "text": [
      "['.ipynb_checkpoints', 'metal_image(4)', 'paper', 'paper2', 'paper_box', 'plastic_bottle', 'R_351']\n"
     ]
    }
   ],
   "source": [
    "for cl in myList:\n",
    "    imgCur = cv2.imread(f'{path}/{cl}',0)\n",
    "    images.append(imgCur)\n",
    "    classNames.append(os.path.splitext(cl)[0])\n",
    "print(classNames)"
   ]
  },
  {
   "cell_type": "code",
   "execution_count": 5,
   "id": "62cbf549-9f6e-4b39-a729-8fe4b04e1304",
   "metadata": {},
   "outputs": [],
   "source": [
    "def findDes(images):\n",
    "    desList = []\n",
    "    for img in images:\n",
    "        kp,des = orb.detectAndCompute(img,None)\n",
    "        desList.append(des)\n",
    "    return desList\n",
    "\n",
    "\n"
   ]
  },
  {
   "cell_type": "code",
   "execution_count": 6,
   "id": "e73ff435-46e5-48ec-8d8b-cd3501dd619f",
   "metadata": {},
   "outputs": [],
   "source": [
    "def findID(img,desList,thres=9):\n",
    "    kp2,des2 = orb.detectAndCompute(img,None)\n",
    "    bf = cv2.BFMatcher()\n",
    "    matchList = []\n",
    "    finalVal = -1\n",
    "    try:\n",
    "        for des in desList:\n",
    "            matches = bf.knnMatch(des,des2,k=2)\n",
    "            good = []\n",
    "            for m,n in matches:\n",
    "                if m.distance < 0.77*n.distance:\n",
    "                    good.append([m])\n",
    "            matchList.append(len(good))\n",
    "    except:\n",
    "        pass\n",
    "    # print(matchList)\n",
    "    if len(matchList)!=0:\n",
    "        if max(matchList) > thres:\n",
    "            finalVal = matchList.index(max(matchList))\n",
    "    return finalVal\n",
    "    "
   ]
  },
  {
   "cell_type": "code",
   "execution_count": 7,
   "id": "545e2f84-3464-4619-bc85-ce276390a69f",
   "metadata": {},
   "outputs": [
    {
     "name": "stdout",
     "output_type": "stream",
     "text": [
      "7\n"
     ]
    }
   ],
   "source": [
    "desList = findDes(images)\n",
    "print(len(desList))"
   ]
  },
  {
   "cell_type": "code",
   "execution_count": null,
   "id": "a90d4378-542c-4089-8f97-5f5e133812ff",
   "metadata": {},
   "outputs": [],
   "source": [
    "cap  = cv2.VideoCapture(0)\n",
    "\n",
    "while True:\n",
    "    success,img2 = cap.read()\n",
    "    imgOriginal = img2.copy()\n",
    "    img2 = cv2.cvtColor(img2,cv2.COLOR_BGR2GRAY)\n",
    "    id = findID(img2,desList)\n",
    "    if id!= -1:\n",
    "        cv2.putText(imgOriginal,classNames[id],(50,50),cv2.FONT_HERSHEY_COMPLEX,1,(125,185,225),2)\n",
    "    cv2.imshow('image2',imgOriginal)\n",
    "    cv2.waitKey(200)\n",
    "    \n"
   ]
  }
 ],
 "metadata": {
  "kernelspec": {
   "display_name": "Python 3 (ipykernel)",
   "language": "python",
   "name": "python3"
  },
  "language_info": {
   "codemirror_mode": {
    "name": "ipython",
    "version": 3
   },
   "file_extension": ".py",
   "mimetype": "text/x-python",
   "name": "python",
   "nbconvert_exporter": "python",
   "pygments_lexer": "ipython3",
   "version": "3.11.7"
  }
 },
 "nbformat": 4,
 "nbformat_minor": 5
}
